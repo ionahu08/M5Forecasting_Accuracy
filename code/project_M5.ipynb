{
 "cells": [
  {
   "cell_type": "code",
   "execution_count": null,
   "metadata": {},
   "outputs": [],
   "source": [
    "import pandas as pd\n",
    "import numpy as np\n",
    "import os\n",
    "import matplotlib.pyplot as plt\n",
    "import seaborn as sns\n",
    "import time\n",
    "import datetime\n",
    "import lightgbm as lgb\n",
    "import warnings\n",
    "warnings.filterwarnings('ignore')"
   ]
  },
  {
   "cell_type": "code",
   "execution_count": null,
   "metadata": {},
   "outputs": [],
   "source": [
    "calendar = pd.read_csv('../data/calendar.csv')\n",
    "sales_train_val = pd.read_csv('../data/sales_train_validation.csv')\n",
    "sales_train_eval = pd.read_csv('../data/sales_train_evaluation.csv')\n",
    "sell_prices = pd.read_csv('../data/sell_prices.csv')"
   ]
  },
  {
   "cell_type": "markdown",
   "metadata": {},
   "source": [
    "### 01 Preprocessing Data\n",
    "#### 1.1 Calendar Data"
   ]
  },
  {
   "cell_type": "code",
   "execution_count": null,
   "metadata": {},
   "outputs": [],
   "source": [
    "display(calendar.info())\n",
    "display(calendar.head().T)\n",
    "display(calendar.describe().T)\n",
    "display(calendar.isnull().sum().T)"
   ]
  },
  {
   "cell_type": "code",
   "execution_count": null,
   "metadata": {},
   "outputs": [],
   "source": [
    "# Convert 'date' column to datetime format\n",
    "calendar['date'] = pd.to_datetime(calendar['date'])\n",
    "# drop weekday \n",
    "calendar = calendar.drop(columns=['weekday']) "
   ]
  },
  {
   "cell_type": "code",
   "execution_count": null,
   "metadata": {},
   "outputs": [],
   "source": [
    "# define a function to do the following steps for columns: event_name_1, event_type_1, event_name_2, event_type_2\n",
    "def process_event_column(column, calendardata):\n",
    "    # Get unique values for the event_name column and the associated date\n",
    "    temp_df = calendardata[[column, 'date']].dropna().sort_values(by=[column, 'date']).reset_index(drop=True)\n",
    "    \n",
    "    # Pivot the data: event names become columns, and dates remain as index\n",
    "    temp_df = temp_df.pivot(index='date', columns=column, values=column)\n",
    "    \n",
    "    # Fill NaN values with 0, and existing values with 1\n",
    "    temp_df = temp_df.fillna(0).applymap(lambda x: 1 if x != 0 else 0)\n",
    "    # Merge the resulting pivoted DataFrame back to the original calendar data by date\n",
    "    calendardata = calendardata.merge(temp_df, on='date', how='left')\n",
    "    # Drop the original column after merge\n",
    "    calendardata = calendardata.drop(columns=[column])\n",
    "    # Return the updated calendar data and the new column names\n",
    "    return calendardata, temp_df.columns.tolist()\n",
    "\n",
    "\n",
    "# apply the function to the columns\n",
    "calendar, event_name_1_columns = process_event_column(column='event_name_1', calendardata=calendar)\n",
    "calendar, event_type_1_columns = process_event_column(column='event_type_1', calendardata=calendar)\n",
    "calendar, event_name_2_columns = process_event_column(column='event_name_2', calendardata=calendar)\n",
    "calendar, event_type_2_columns = process_event_column(column='event_type_2', calendardata=calendar)\n",
    "\n",
    "# print(\"event_name_1_columns: \", event_name_1_columns)\n",
    "# print(\"event_type_1_columns: \", event_type_1_columns)\n",
    "# print(\"event_name_2_columns: \", event_name_2_columns)\n",
    "# print(\"event_type_2_columns: \", event_type_2_columns)"
   ]
  },
  {
   "cell_type": "markdown",
   "metadata": {},
   "source": [
    "#### 1.2 Sell Prices Data\n",
    "The store and item IDs together with the sales price of the item as a weekly average."
   ]
  },
  {
   "cell_type": "code",
   "execution_count": null,
   "metadata": {},
   "outputs": [],
   "source": [
    "display(sell_prices.info())\n",
    "display(sell_prices.head())\n",
    "display(sell_prices.describe().T)\n",
    "display(sell_prices.isnull().sum().T)"
   ]
  },
  {
   "cell_type": "markdown",
   "metadata": {},
   "source": [
    "#### 1.3 Sales_train_validation"
   ]
  },
  {
   "cell_type": "code",
   "execution_count": null,
   "metadata": {},
   "outputs": [],
   "source": [
    "display(sales_train_val.info())\n",
    "display(sales_train_val.head())\n",
    "display(sales_train_val.describe().T)\n",
    "display(sales_train_val.isnull().sum().T)"
   ]
  },
  {
   "cell_type": "code",
   "execution_count": null,
   "metadata": {},
   "outputs": [],
   "source": [
    "# Pivot the dataframe d1 to d1913 to rows\n",
    "sales_train_val_T = sales_train_val.melt(\n",
    "    id_vars=['id', 'item_id', 'dept_id', 'cat_id', 'store_id', 'state_id'],\n",
    "    value_vars=sales_train_val.columns[sales_train_val.columns.get_loc('d_1'):sales_train_val.columns.get_loc('d_1913')+1],\n",
    "    var_name='d',\n",
    "    value_name='sales'\n",
    ")\n",
    "display(sales_train_val_T.head())\n",
    "display(sales_train_val_T.tail())"
   ]
  },
  {
   "cell_type": "markdown",
   "metadata": {},
   "source": [
    "#### 1.4 Sales_train_evaluation"
   ]
  },
  {
   "cell_type": "code",
   "execution_count": null,
   "metadata": {},
   "outputs": [],
   "source": [
    "display(sales_train_eval.info())\n",
    "display(sales_train_eval.head())\n",
    "display(sales_train_eval.describe().T)\n",
    "display(sales_train_eval.isnull().sum().T)\n"
   ]
  },
  {
   "cell_type": "code",
   "execution_count": null,
   "metadata": {},
   "outputs": [],
   "source": [
    "# Pivot the dataframe d1 to d1913 to rows\n",
    "sales_train_eval_T = sales_train_eval.melt(\n",
    "    id_vars=['id', 'item_id', 'dept_id', 'cat_id', 'store_id', 'state_id'],\n",
    "    value_vars=sales_train_eval.columns[sales_train_eval.columns.get_loc('d_1'):sales_train_eval.columns.get_loc('d_1941')+1],\n",
    "    var_name='d',\n",
    "    value_name='sales'\n",
    ")\n",
    "display(sales_train_eval_T.head())\n",
    "display(sales_train_eval_T.tail())"
   ]
  },
  {
   "cell_type": "markdown",
   "metadata": {},
   "source": [
    "#### 1.5 Sales_train_validation and Sales_train_evaluation"
   ]
  },
  {
   "cell_type": "code",
   "execution_count": null,
   "metadata": {},
   "outputs": [],
   "source": [
    "print(\"sales_train_val_T.shape: \", sales_train_val_T.shape)\n",
    "print(\"sales_train_eval_T.shape: \", sales_train_eval_T.shape)\n"
   ]
  },
  {
   "cell_type": "code",
   "execution_count": null,
   "metadata": {},
   "outputs": [],
   "source": [
    "# Concatenate sales_train_val_T and sales_train_eval_T\n",
    "sales_train = pd.concat([sales_train_val_T, sales_train_eval_T], ignore_index=True)\n",
    "print(\"sales_train.shape: \", sales_train.shape)\n"
   ]
  },
  {
   "cell_type": "code",
   "execution_count": null,
   "metadata": {},
   "outputs": [],
   "source": [
    "# extract the day number from the 'd' column\n",
    "sales_train['day'] = sales_train['d'].str.extract('d_(\\d+)').astype(int)\n",
    "display(sales_train.head())\n",
    "display(sales_train.tail())"
   ]
  },
  {
   "cell_type": "markdown",
   "metadata": {},
   "source": [
    "#### 1.6 Merge sales_train with Calendar + Sell_prices\n"
   ]
  },
  {
   "cell_type": "code",
   "execution_count": 14,
   "metadata": {},
   "outputs": [],
   "source": [
    "# merge sales_train with calendar on 'd' + sell_prices on 'wm_yr_wk'\n",
    "sales_train2 = sales_train.merge(calendar, on='d').merge(sell_prices, on=['store_id', 'item_id', 'wm_yr_wk'])\n",
    "# drop the 'd' column\n",
    "sales_train = sales_train2.drop(columns=['d'])\n",
    "# calculate daily revenue n \n",
    "sales_train['revenue'] = sales_train['sales'] * sales_train['sell_price']\n",
    "display(sales_train.head().T)\n"
   ]
  },
  {
   "cell_type": "markdown",
   "metadata": {},
   "source": [
    "### 02 EDA + Feature Engineering\n",
    "#### 2.1 Sales Features\n",
    "##### 2.1.1 EDA"
   ]
  },
  {
   "cell_type": "code",
   "execution_count": null,
   "metadata": {},
   "outputs": [],
   "source": [
    "aaa = sales_train['sales'].groupby(sales_train['year']).sum()"
   ]
  },
  {
   "cell_type": "code",
   "execution_count": null,
   "metadata": {},
   "outputs": [],
   "source": [
    "sales_train['year'].unique()"
   ]
  },
  {
   "cell_type": "code",
   "execution_count": null,
   "metadata": {},
   "outputs": [],
   "source": []
  },
  {
   "cell_type": "code",
   "execution_count": null,
   "metadata": {},
   "outputs": [],
   "source": []
  }
 ],
 "metadata": {
  "kernelspec": {
   "display_name": "m5",
   "language": "python",
   "name": "python3"
  },
  "language_info": {
   "codemirror_mode": {
    "name": "ipython",
    "version": 3
   },
   "file_extension": ".py",
   "mimetype": "text/x-python",
   "name": "python",
   "nbconvert_exporter": "python",
   "pygments_lexer": "ipython3",
   "version": "3.12.5"
  }
 },
 "nbformat": 4,
 "nbformat_minor": 2
}
